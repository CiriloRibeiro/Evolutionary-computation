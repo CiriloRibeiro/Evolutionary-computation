{
 "cells": [
  {
   "cell_type": "code",
   "execution_count": 1,
   "id": "e5b6b327",
   "metadata": {},
   "outputs": [],
   "source": [
    "from Scipy_DE import DifferentialEvolution\n",
    "from examples import PressureVessel, TensionCompressionSpring, SpeedReducer\n",
    "import pandas as pd"
   ]
  },
  {
   "cell_type": "code",
   "execution_count": 2,
   "id": "6182f4c5",
   "metadata": {},
   "outputs": [],
   "source": [
    "N = 30\n",
    "G = 250\n",
    "\n",
    "config = {'case1':{'mutation':0.5, 'recombination':0.7},\n",
    "          'case2':{'mutation':0.1, 'recombination':0.8},\n",
    "          'case3':{'mutation':0.8, 'recombination':0.6}}\n",
    "\n",
    "#Python uses the Mersenne Twister as the core generator: https://docs.python.org/3/library/random.html\n",
    "def run(algorithm, problem, N, G, config): \n",
    "    res = dict()\n",
    "    for case in config:\n",
    "        res[case] = []\n",
    "        for i in range(N):\n",
    "            alg = algorithm(problem.problem, problem.bounds, seed=i, G=G, **config[case])\n",
    "            alg.popsize=15 #population\n",
    "            alg.run()\n",
    "            res[case].append(alg.fun)\n",
    "    return res"
   ]
  },
  {
   "cell_type": "markdown",
   "id": "4b3e3441",
   "metadata": {},
   "source": [
    "# Design of Pressure Vessel\n"
   ]
  },
  {
   "cell_type": "markdown",
   "id": "e225dad2",
   "metadata": {},
   "source": [
    "#### Optimization problem (minimization OR maximization): Minimization\n",
    "#### Brief description of the optimization problem (2 paragraphs and link)\n",
    "\n",
    "#### 4.3.1 Example 8: Design of Pressure Vessel: \n",
    "\n",
    "A cylindrical vessel is capped at both ends by hemispherical heads. The objective is to minimize the total cost, including the cost of the\n",
    "material, forming and welding. \n",
    "\n",
    "There are four design variables: thickness of the\n",
    "shell (Ts), thickness of the head (Th), inner radius (R) and length of the cylindrical\n",
    "section of the vessel, not including the head (L) so design vector X = (x1, x2, x3,\n",
    "x4) = (Ts, Th, R, L). Ts and Th are integer multiples of 0.0625 inch, which are the\n",
    "available thicknesses of rolled steel plates, and R and L are continuous.\n",
    "\n",
    "-Mechanical Design\n",
    "Optimization Using\n",
    "Advanced Optimization\n",
    "Techniques\n",
    "\n",
    "#### Dimension of optimization problem: 4 D\n",
    "#### Population size:   15  members\n",
    "#### Stopping criterion: 250 generations\n",
    "#### Number of runs:  30"
   ]
  },
  {
   "cell_type": "markdown",
   "id": "0bbee294",
   "metadata": {},
   "source": [
    "### Differencial Evolution"
   ]
  },
  {
   "cell_type": "code",
   "execution_count": 3,
   "id": "252d4a43",
   "metadata": {},
   "outputs": [
    {
     "name": "stdout",
     "output_type": "stream",
     "text": [
      "DE - PressureVessel\n",
      "             case1         case2        case3\n",
      "count    30.000000     30.000000    30.000000\n",
      "mean   6476.948448   9784.676313  6092.374045\n",
      "std     413.416141  13014.864002    82.679927\n",
      "min    6060.591995   6090.829314  6059.731881\n",
      "25%    6091.214704   6286.148668  6061.021478\n",
      "50%    6390.846848   6646.514272  6063.480757\n",
      "75%    6772.715736   7258.685089  6091.707510\n",
      "max    7334.724031  77210.415340  6411.791999\n"
     ]
    }
   ],
   "source": [
    "res_de = run(algorithm=DifferentialEvolution, problem=PressureVessel(), N=N, G=G,config=config)\n",
    "\n",
    "df_de = pd.DataFrame(res_de)\n",
    "\n",
    "print('DE - PressureVessel')\n",
    "print(df_de.describe())"
   ]
  },
  {
   "cell_type": "markdown",
   "id": "4f075a9c",
   "metadata": {},
   "source": [
    "# Design of Pressure Vessel\n"
   ]
  },
  {
   "cell_type": "markdown",
   "id": "34a1051a",
   "metadata": {},
   "source": [
    "#### Optimization problem (minimization OR maximization): Minimization\n",
    "#### Brief description of the optimization problem (2 paragraphs and link)\n",
    "\n",
    "#### 4.3.3 Example 10: Design of Tension/Compression Spring\n",
    "\n",
    "This problem is taken from Belegundu which consists of minimizing the weight of\n",
    "a tension/compression spring subject to constraints on minimum\n",
    "deflection, shear stress, surge frequency, limits on outside diameter and on design\n",
    "variables. \n",
    "\n",
    "The design variables are the wire diameter (d), the mean coil diameter\n",
    "(D) and the number of active coils (N). Design vector can be defined as X = (x1, x2,\n",
    "x3) = (d, D, N).\n",
    "\n",
    "-Mechanical Design\n",
    "Optimization Using\n",
    "Advanced Optimization\n",
    "Techniques\n",
    "\n",
    "#### Dimension of optimization problem: 3 D\n",
    "#### Population size:   15  members\n",
    "#### Stopping criterion: 250 generations\n",
    "#### Number of runs:  30"
   ]
  },
  {
   "cell_type": "markdown",
   "id": "d7497122",
   "metadata": {},
   "source": [
    "### Differencial Evolution"
   ]
  },
  {
   "cell_type": "code",
   "execution_count": 4,
   "id": "73d486e0",
   "metadata": {},
   "outputs": [
    {
     "name": "stdout",
     "output_type": "stream",
     "text": [
      "DE - TensionCompressionSpring\n",
      "           case1      case2      case3\n",
      "count  30.000000  30.000000  30.000000\n",
      "mean    0.012804   0.018485   0.012698\n",
      "std     0.000149   0.010237   0.000028\n",
      "min     0.012667   0.012677   0.012671\n",
      "25%     0.012685   0.013840   0.012678\n",
      "50%     0.012712   0.014974   0.012687\n",
      "75%     0.012918   0.017931   0.012708\n",
      "max     0.013140   0.055209   0.012799\n"
     ]
    }
   ],
   "source": [
    "res_de = run(algorithm=DifferentialEvolution, problem=TensionCompressionSpring(), N=N, G=G, config=config)\n",
    "\n",
    "df_de = pd.DataFrame(res_de)\n",
    "\n",
    "print('DE - TensionCompressionSpring')\n",
    "print(df_de.describe())"
   ]
  },
  {
   "cell_type": "markdown",
   "id": "ec00a195",
   "metadata": {},
   "source": [
    "# Design of a Speed Reducer\n"
   ]
  },
  {
   "cell_type": "markdown",
   "id": "98ce560a",
   "metadata": {},
   "source": [
    "#### Optimization problem (minimization OR maximization): Minimization\n",
    "#### Brief description of the optimization problem (2 paragraphs and link)\n",
    "\n",
    "#### 4.3.4 Example 11: Design of a Speed Reducer:\n",
    "\n",
    "The weight of the speed reducer as shown in Fig. 4.4 is to be minimized subject to\n",
    "constraints on bending stress of the gear teeth, surfaces stress, transverse deflec-\n",
    "tions of the shafts and stresses in the shafts. \n",
    "\n",
    "The variables x1, x2, x3, x4, x5, x6 and\n",
    "x7 are the face width, module of teeth, number of teeth in the pinion, length of the\n",
    "first shaft between bearings, length of the second shaft between bearings and the\n",
    "diameter of the first and second shafts, respectively. The third variable is integer,\n",
    "the rest of them are continuous.\n",
    "\n",
    "-Mechanical Design\n",
    "Optimization Using\n",
    "Advanced Optimization\n",
    "Techniques\n",
    "\n",
    "#### Dimension of optimization problem: 7 D\n",
    "#### Population size:   15  members\n",
    "#### Stopping criterion: 250 generations\n",
    "#### Number of runs:  30"
   ]
  },
  {
   "cell_type": "markdown",
   "id": "3cccdfce",
   "metadata": {},
   "source": [
    "### Differencial Evolution"
   ]
  },
  {
   "cell_type": "code",
   "execution_count": 5,
   "id": "b437386b",
   "metadata": {},
   "outputs": [
    {
     "name": "stdout",
     "output_type": "stream",
     "text": [
      "DE - SpeedReducer\n",
      "             case1        case2        case3\n",
      "count    30.000000    30.000000    30.000000\n",
      "mean   2998.551847  3204.950537  3002.327741\n",
      "std       3.722099   385.060737     3.335873\n",
      "min    2993.872637  2993.188563  2997.334565\n",
      "25%    2996.081460  3000.381746  2999.647216\n",
      "50%    2997.291385  3008.295104  3001.929184\n",
      "75%    2999.569033  3360.832122  3003.939163\n",
      "max    3008.563380  4665.124869  3011.041617\n"
     ]
    }
   ],
   "source": [
    "res_de = run(algorithm=DifferentialEvolution, problem=SpeedReducer(), N=N, G=G, config=config)\n",
    "\n",
    "df_de = pd.DataFrame(res_de)\n",
    "\n",
    "print('DE - SpeedReducer')\n",
    "print(df_de.describe())"
   ]
  }
 ],
 "metadata": {
  "kernelspec": {
   "display_name": "Python 3 (ipykernel)",
   "language": "python",
   "name": "python3"
  },
  "language_info": {
   "codemirror_mode": {
    "name": "ipython",
    "version": 3
   },
   "file_extension": ".py",
   "mimetype": "text/x-python",
   "name": "python",
   "nbconvert_exporter": "python",
   "pygments_lexer": "ipython3",
   "version": "3.9.7"
  }
 },
 "nbformat": 4,
 "nbformat_minor": 5
}
