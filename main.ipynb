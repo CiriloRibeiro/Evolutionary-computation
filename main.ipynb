{
 "cells": [
  {
   "cell_type": "code",
   "execution_count": 91,
   "id": "e5b6b327",
   "metadata": {},
   "outputs": [],
   "source": [
    "from Scipy_DE import DifferentialEvolution\n",
    "from examples import PressureVessel, TensionCompressionSpring, SpeedReducer\n",
    "import pandas as pd"
   ]
  },
  {
   "cell_type": "code",
   "execution_count": 104,
   "id": "6182f4c5",
   "metadata": {},
   "outputs": [],
   "source": [
    "N = 30\n",
    "G = 250\n",
    "\n",
    "config = {'case1':{'mutation':0.5, 'recombination':0.7},\n",
    "          'case2':{'mutation':0.1, 'recombination':0.8},\n",
    "          'case3':{'mutation':0.8, 'recombination':0.6}}\n",
    "\n",
    "#Python uses the Mersenne Twister as the core generator: https://docs.python.org/3/library/random.html\n",
    "def run(algorithm, problem, N, G, config): \n",
    "    res = dict()\n",
    "    for case in config:\n",
    "        res[case] = []\n",
    "        for i in range(N):\n",
    "            alg = algorithm(problem.problem, problem.bounds, seed=i, G=G, **config[case])\n",
    "            alg.popsize=15 #population\n",
    "            alg.run()\n",
    "            res[case].append(alg.fun)\n",
    "    return res"
   ]
  },
  {
   "cell_type": "markdown",
   "id": "4b3e3441",
   "metadata": {},
   "source": [
    "# Design of Pressure Vessel\n"
   ]
  },
  {
   "cell_type": "markdown",
   "id": "b93d18a8",
   "metadata": {},
   "source": [
    "#### Optimization problem (minimization OR maximization): _____________\n",
    "#### Brief description of the optimization problem (2 paragraphs and link)\n",
    "#### Dimension of optimization problem: ___ D\n",
    "#### Population size:      ___  members\n",
    "#### Stopping criterion: ___ generations\n",
    "#### Number of runs:     ___"
   ]
  },
  {
   "cell_type": "markdown",
   "id": "e0871c2b",
   "metadata": {},
   "source": [
    "### Genetic algorithm"
   ]
  },
  {
   "cell_type": "code",
   "execution_count": null,
   "id": "e913c929",
   "metadata": {},
   "outputs": [],
   "source": []
  },
  {
   "cell_type": "markdown",
   "id": "0bbee294",
   "metadata": {},
   "source": [
    "### Differencial Evolution"
   ]
  },
  {
   "cell_type": "code",
   "execution_count": 105,
   "id": "252d4a43",
   "metadata": {},
   "outputs": [
    {
     "name": "stdout",
     "output_type": "stream",
     "text": [
      "DE - PressureVessel\n",
      "             case1         case2        case3\n",
      "count    30.000000     30.000000    30.000000\n",
      "mean   6476.948448   9784.676313  6092.374045\n",
      "std     413.416141  13014.864002    82.679927\n",
      "min    6060.591995   6090.829314  6059.731881\n",
      "25%    6091.214704   6286.148668  6061.021478\n",
      "50%    6390.846848   6646.514272  6063.480757\n",
      "75%    6772.715736   7258.685089  6091.707510\n",
      "max    7334.724031  77210.415340  6411.791999\n"
     ]
    }
   ],
   "source": [
    "res_de = run(algorithm=DifferentialEvolution, problem=PressureVessel(), N=N, G=G,config=config)\n",
    "\n",
    "df_de = pd.DataFrame(res_de)\n",
    "\n",
    "print('DE - PressureVessel')\n",
    "print(df_de.describe())"
   ]
  },
  {
   "cell_type": "markdown",
   "id": "4f075a9c",
   "metadata": {},
   "source": [
    "# Design of Pressure Vessel\n"
   ]
  },
  {
   "cell_type": "markdown",
   "id": "63f405ee",
   "metadata": {},
   "source": [
    "### Genetic algorithm"
   ]
  },
  {
   "cell_type": "code",
   "execution_count": null,
   "id": "ecfae297",
   "metadata": {},
   "outputs": [],
   "source": []
  },
  {
   "cell_type": "markdown",
   "id": "d7497122",
   "metadata": {},
   "source": [
    "### Differencial Evolution"
   ]
  },
  {
   "cell_type": "code",
   "execution_count": null,
   "id": "73d486e0",
   "metadata": {},
   "outputs": [],
   "source": [
    "res_de = run(algorithm=DifferentialEvolution, problem=TensionCompressionSpring(), N=N, G=G, config=config)\n",
    "\n",
    "df_de = pd.DataFrame(res_de)\n",
    "\n",
    "print('DE - TensionCompressionSpring')\n",
    "print(df_de.describe())"
   ]
  },
  {
   "cell_type": "markdown",
   "id": "ec00a195",
   "metadata": {},
   "source": [
    "# Design of a Speed Reducer\n"
   ]
  },
  {
   "cell_type": "markdown",
   "id": "889a2d13",
   "metadata": {},
   "source": [
    "### Genetic algorithm"
   ]
  },
  {
   "cell_type": "code",
   "execution_count": null,
   "id": "da85c470",
   "metadata": {},
   "outputs": [],
   "source": []
  },
  {
   "cell_type": "markdown",
   "id": "3cccdfce",
   "metadata": {},
   "source": [
    "### Differencial Evolution"
   ]
  },
  {
   "cell_type": "code",
   "execution_count": null,
   "id": "b437386b",
   "metadata": {},
   "outputs": [],
   "source": [
    "res_de = run(algorithm=DifferentialEvolution, problem=SpeedReducer(), N=N, G=G, config=config)\n",
    "\n",
    "df_de = pd.DataFrame(res_de)\n",
    "\n",
    "print('DE - SpeedReducer')\n",
    "print(df_de.describe())"
   ]
  }
 ],
 "metadata": {
  "kernelspec": {
   "display_name": "Python 3 (ipykernel)",
   "language": "python",
   "name": "python3"
  },
  "language_info": {
   "codemirror_mode": {
    "name": "ipython",
    "version": 3
   },
   "file_extension": ".py",
   "mimetype": "text/x-python",
   "name": "python",
   "nbconvert_exporter": "python",
   "pygments_lexer": "ipython3",
   "version": "3.9.7"
  }
 },
 "nbformat": 4,
 "nbformat_minor": 5
}
